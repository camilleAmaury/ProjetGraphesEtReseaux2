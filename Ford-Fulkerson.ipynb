{
 "cells": [
  {
   "cell_type": "code",
   "execution_count": 58,
   "metadata": {},
   "outputs": [],
   "source": [
    "R <- array(c(c(1,1,1,1,1,1,1,1,1,1,1,1,1,1,1,1),c(0,0,4,0,1,0,0,0,0,2,0,0,3,3,4,0)), dim=c(4,4,2))"
   ]
  },
  {
   "cell_type": "code",
   "execution_count": 59,
   "metadata": {},
   "outputs": [
    {
     "name": "stdout",
     "output_type": "stream",
     "text": [
      ", , 1\n",
      "\n",
      "     [,1] [,2] [,3] [,4]\n",
      "[1,]    1    1    1    1\n",
      "[2,]    1    1    1    1\n",
      "[3,]    1    1    1    1\n",
      "[4,]    1    1    1    1\n",
      "\n",
      ", , 2\n",
      "\n",
      "     [,1] [,2] [,3] [,4]\n",
      "[1,]    0    1    0    3\n",
      "[2,]    0    0    2    3\n",
      "[3,]    4    0    0    4\n",
      "[4,]    0    0    0    0\n",
      "\n"
     ]
    }
   ],
   "source": [
    "#R[i, j, 1] get the flux of network for the pixel (i, j) we have to initialize this square matrix at 0\n",
    "#R[i, j, 2] get the capacity # if capacity = 0 then there isn't vertex \n",
    "print(R)"
   ]
  },
  {
   "cell_type": "code",
   "execution_count": 86,
   "metadata": {},
   "outputs": [
    {
     "name": "stdout",
     "output_type": "stream",
     "text": [
      "[[1]]\n",
      "list()\n",
      "\n",
      "[[2]]\n",
      "[[2]][[1]]\n",
      "[1] 1\n",
      "\n",
      "\n"
     ]
    }
   ],
   "source": [
    "GetAllPath <- function(current, start, end, R, paths, vertex){\n",
    "    vertex[current] <- 1\n",
    "    paths <- list(paths, list(current))\n",
    "    if(current != end){\n",
    "        for(i in 1:length(R[current,,2])){\n",
    "            if(R[current,i,2] != 0){  #arc exist\n",
    "                if(vertex[i] == 0){   #check if the destination vertex is already discovered\n",
    "                    GetAllPath(i, start, end, R, paths, vertex)\n",
    "                }\n",
    "            }\n",
    "        }\n",
    "    }\n",
    "}\n",
    "paths <- list()\n",
    "print(GetAllPath(1, 1, 4, R, paths, c(0,0,0,0)))\n"
   ]
  },
  {
   "cell_type": "code",
   "execution_count": 22,
   "metadata": {},
   "outputs": [],
   "source": [
    "#data structure de R : x * y * 2 (2 parce qu'on a le flot pour chaque arc et la capacité)\n",
    "FordFulkerson <- function(R, s, t){\n",
    "    # init\n",
    "    # Pour chaque arc (p,q) de R faire f(p,q)←0; f(q,p) <- 0;\n",
    "    for(i in 1:dim(R)[1]){\n",
    "        for(j in 1:dim(R)[2]){\n",
    "            R[i, j, 1] <- 0\n",
    "        }\n",
    "    }\n",
    "    \n",
    "    allPaths <- GetAllPath(R, s, t) #get tous les chemins possibles de a à b #data structure de allPaths : [[1,2,4,5], [1,3,4,7,5], ...]\n",
    "    for(path in allPaths){\n",
    "        cfpq <- c()\n",
    "        for(p in 1:length(path)){\n",
    "            if(p < length(path)){\n",
    "                cfpq <- c(cfpq, (R[path[p], path[p+1], 2] - R[path[p], path[p+1], 1]))\n",
    "            }\n",
    "        }\n",
    "        cfP <-  min(cfpq) #cf(P)=min{cf(p,q), (p,q) arc de P} ;\n",
    "        \n",
    "        for(p in 1:length(path[p])){ #pour chaque arc du chemin de la liste des chemins restants\n",
    "            R[path[p], path[p+1], 1] <- R[path[p], path[p+1], 1] + cfP #f(p,q)←f(p,q)+cf\n",
    "(P)\n",
    "\n",
    "            R[path[p+1], path[p], 1] <- -R[path[p], path[p+1], 1] #f(q,p)← - f(p,q)\n",
    "        }\n",
    "        allPaths <- GetAllPath(R)\n",
    "    }\n",
    "    \n",
    "    return(R)\n",
    "}"
   ]
  },
  {
   "cell_type": "code",
   "execution_count": 27,
   "metadata": {},
   "outputs": [],
   "source": [
    "R <- FordFulkerson(R)"
   ]
  },
  {
   "cell_type": "code",
   "execution_count": null,
   "metadata": {},
   "outputs": [],
   "source": [
    "CalculCoupeMin <- function(R, s, t){\n",
    "    flotMax <- FordFulkerson(R, s, t)\n",
    "    \n",
    "    getX <- function(R, s){\n",
    "        X <- c(s)\n",
    "        rec <- function(R, current, X){\n",
    "            for(i in 1:length(R[current,,1])){\n",
    "                if(R[current,i,2] != 0){  #arc exist\n",
    "                    if(R[current,i,2] == R[current,i,1]){ # flot = capacité donc tuyau bouché/saturé -> condition d'arrêt\n",
    "                        X <- c(X, current)\n",
    "                        return(X)\n",
    "                    }else{\n",
    "                        X <- c(X, current)\n",
    "                        rec(R, i, X)\n",
    "                    }\n",
    "                }\n",
    "            }\n",
    "        }\n",
    "    }\n",
    "    \n",
    "    getY <- function(R, X){\n",
    "        Y <- c()\n",
    "        for(i in 1:dim(R)[0]){\n",
    "            if(i != X){\n",
    "                Y <- c(Y, i)\n",
    "            }\n",
    "        }\n",
    "        return(Y)\n",
    "    } \n",
    "    \n",
    "    X <- getX(flotMax, s)\n",
    "    Y <- getY(flotMax, X)\n",
    "    \n",
    "    return(list(\"X\"=X, \"Y\"=Y))\n",
    "} "
   ]
  },
  {
   "cell_type": "code",
   "execution_count": null,
   "metadata": {},
   "outputs": [],
   "source": [
    "c(1,2,3,4,5,6)"
   ]
  }
 ],
 "metadata": {
  "kernelspec": {
   "display_name": "R",
   "language": "R",
   "name": "ir"
  },
  "language_info": {
   "codemirror_mode": "r",
   "file_extension": ".r",
   "mimetype": "text/x-r-source",
   "name": "R",
   "pygments_lexer": "r",
   "version": "3.6.1"
  }
 },
 "nbformat": 4,
 "nbformat_minor": 2
}
